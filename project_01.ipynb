{
  "cells": [
    {
      "cell_type": "markdown",
      "metadata": {
        "id": "view-in-github",
        "colab_type": "text"
      },
      "source": [
        "<a href=\"https://colab.research.google.com/github/usman-pasha-786/assignment-PIAIC/blob/main/project_01.ipynb\" target=\"_parent\"><img src=\"https://colab.research.google.com/assets/colab-badge.svg\" alt=\"Open In Colab\"/></a>"
      ]
    },
    {
      "cell_type": "code",
      "execution_count": null,
      "metadata": {
        "id": "EFE1RpyPpCN2",
        "collapsed": true
      },
      "outputs": [],
      "source": [
        "%%capture --no-stderr\n",
        "%pip install --quiet -U langchain_google_genai langchain_core langgraph"
      ]
    },
    {
      "cell_type": "code",
      "source": [
        "from google.colab import userdata\n",
        "GEMINI_API_KEY = userdata.get('GEMINI_API_KEY')"
      ],
      "metadata": {
        "id": "2kv7tHIVG0SL"
      },
      "execution_count": null,
      "outputs": []
    },
    {
      "cell_type": "code",
      "source": [
        "from google.colab import userdata\n",
        "LANGSMITH_API_KEY = userdata.get('LANGCHAIN_API_KEY')"
      ],
      "metadata": {
        "id": "Wt9_Ldq6TD3S"
      },
      "execution_count": null,
      "outputs": []
    },
    {
      "cell_type": "code",
      "source": [
        "from langchain_google_genai import ChatGoogleGenerativeAI\n",
        "from langchain_core.messages import SystemMessage, HumanMessage, RemoveMessage\n",
        "from langchain.tools import Tool\n",
        "from langgraph.graph import END\n",
        "from langgraph.graph import MessagesState\n",
        "\n",
        "def process_property_message(message: str) -> str:\n",
        "    \"\"\"Respond to property-related messages based on detected keywords.\n",
        "\n",
        "    Args:\n",
        "        message: The user's input message.\n",
        "\n",
        "    Returns:\n",
        "        A response if the message is property-related, otherwise a default message.\n",
        "    \"\"\"\n",
        "    keywords_responses = {\n",
        "        \"rent\": \"When renting, ensure you understand the lease terms and check the property's condition.\",\n",
        "        \"lease\": \"When renting, ensure you understand the lease terms and check the property's condition.\",\n",
        "        \"buying\": \"Buying property? Focus on location, market trends, and securing good financing options.\",\n",
        "        \"investment\": \"Investing in property requires assessing market conditions, location, and potential ROI.\",\n",
        "        \"selling\": \"To sell property successfully, ensure it’s well-maintained and priced competitively.\",\n",
        "        \"mortgage\": \"Compare mortgage rates, terms, and fees from multiple lenders before deciding.\",\n",
        "    }\n",
        "\n",
        "    message_lower = message.lower()\n",
        "    for keyword, response in keywords_responses.items():\n",
        "        if keyword in message_lower:\n",
        "            return response\n",
        "\n",
        "    return \"Sorry, I only answer property-related questions. Feel free to ask!\"\n",
        "\n",
        "# function for handle the rent property\n",
        "def handle_rent_sale_query(message: str) -> str:\n",
        "    \"\"\"Respond to rent or sale-related queries with expert dealer contact details.\n",
        "\n",
        "    Args:\n",
        "        message: The user's input message.\n",
        "\n",
        "    Returns:\n",
        "        A contact response if the message is about renting or selling, otherwise a default response.\n",
        "    \"\"\"\n",
        "    rent_keywords = [\"rent\", \"rental\", \"leasing\", \"lease\"]\n",
        "    sale_keywords = [\"sale\", \"selling\", \"buy\", \"purchase\"]\n",
        "\n",
        "    message_lower = message.lower()\n",
        "\n",
        "    if any(keyword in message_lower for keyword in rent_keywords):\n",
        "        return (\n",
        "            \"For rental property assistance, please contact our expert dealer:\\n\"\n",
        "            \"Name: Mr. sajid awan\\n\"\n",
        "            \"Phone: +1-234-567-8901\\n\"\n",
        "            \"Email: Sajid.awan.doe@propertyexpert.com\\n\"\n",
        "            \"Feel free to reach out for personalized support!\"\n",
        "        )\n",
        "    elif any(keyword in message_lower for keyword in sale_keywords):\n",
        "        return (\n",
        "            \"For property sales or purchase assistance, please contact our expert dealer:\\n\"\n",
        "            \"Name: Ms. Usman\\n\"\n",
        "            \"Phone: +1-987-654-3210\\n\"\n",
        "            \"Email: usman@propertyexpert.com\\n\"\n",
        "            \"Feel free to reach out for personalized support!\"\n",
        "        )\n",
        "\n",
        "    return \"I can provide expert contact details for rent or sale-related queries. Please ask about renting or selling a property.\"\n",
        "\n",
        "\n",
        "# Defining the tool\n",
        "tools = [process_property_message,handle_rent_sale_query]\n",
        "#     name=\"property Assistant\",\n",
        "#     func=process_property_message,\n",
        "#     description=\"Responds to property-related queries including rent properties and sale properties\"\n",
        "# )\n",
        "\n",
        "# Initialize the LLM\n",
        "llm = ChatGoogleGenerativeAI(model=\"gemini-1.5-flash\", api_key=GEMINI_API_KEY)\n",
        "\n",
        "# Bind tools with LLM\n",
        "llm_with_tools = llm.bind_tools(tools)\n"
      ],
      "metadata": {
        "id": "SwMzmOQyW2FQ"
      },
      "execution_count": null,
      "outputs": []
    },
    {
      "cell_type": "code",
      "source": [
        "from langgraph.graph import MessagesState\n",
        "from langchain_core.messages import AIMessage, HumanMessage, SystemMessage\n",
        "\n",
        "sys_msg = SystemMessage(\n",
        "    content=\"\"\"\n",
        "    Welcome to the Property Assistance System!\n",
        "    I can help with property-related topics like:\n",
        "\n",
        "    Renting or leasing\n",
        "    Buying or selling property\n",
        "    Mortgages and investments\n",
        "    Renovation and construction\n",
        "    Tenant or landlord responsibilities\n",
        "    Just type your question, and I’ll provide a helpful response!\n",
        "\n",
        "    If your question isn’t property-related, I’ll kindly let you know. 😊\n",
        "    \"\"\"\n",
        ")\n",
        "\n",
        "# Node\n",
        "def assistant(state: MessagesState) -> MessagesState:\n",
        "    return {\n",
        "        \"messages\": [llm_with_tools.invoke([sys_msg] + state[\"messages\"])]\n",
        "    }\n"
      ],
      "metadata": {
        "id": "_8wGUv3qf7vo"
      },
      "execution_count": null,
      "outputs": []
    },
    {
      "cell_type": "code",
      "source": [
        "from langgraph.graph import START, StateGraph\n",
        "from langgraph.prebuilt import tools_condition, ToolNode\n",
        "from IPython.display import Image, display\n",
        "from langgraph.graph.state import CompiledStateGraph\n",
        "\n",
        "# Graph\n",
        "builder: StateGraph = StateGraph(MessagesState)\n",
        "\n",
        "# Define nodes:\n",
        "builder.add_node(\"assistant\", assistant)\n",
        "builder.add_node(\"tools\", ToolNode(tools))\n",
        "\n",
        "# Define edges: \\\n",
        "builder.add_edge(START, \"assistant\")\n",
        "builder.add_conditional_edges(\n",
        "    \"assistant\",\n",
        "\n",
        "    tools_condition,\n",
        ")\n",
        "builder.add_edge(\"tools\", \"assistant\")\n",
        "react_graph: CompiledStateGraph = builder.compile()\n",
        "\n",
        "# for display\n",
        "display(Image(react_graph.get_graph(xray=True).draw_mermaid_png()))"
      ],
      "metadata": {
        "colab": {
          "base_uri": "https://localhost:8080/",
          "height": 266
        },
        "id": "IYsQ41cAhcQ4",
        "outputId": "f8569106-ecd5-45c4-b5a4-8bf0d2abf26a"
      },
      "execution_count": null,
      "outputs": [
        {
          "output_type": "display_data",
          "data": {
            "image/png": "[encoded data removed]",
            "text/plain": [
              "<IPython.core.display.Image object>"
            ]
          },
          "metadata": {}
        }
      ]
    },
    {
      "cell_type": "code",
      "source": [
        "llm_with_tools.invoke(\"want to buy property\")"
      ],
      "metadata": {
        "colab": {
          "base_uri": "https://localhost:8080/"
        },
        "id": "SBIk-Uq3kRAI",
        "outputId": "b26d45f3-2c38-4774-8612-822f497194ce"
      },
      "execution_count": null,
      "outputs": [
        {
          "output_type": "execute_result",
          "data": {
            "text/plain": [
              "AIMessage(content='', additional_kwargs={'function_call': {'name': 'process_property_message', 'arguments': '{\"message\": \"want to buy property\"}'}}, response_metadata={'prompt_feedback': {'block_reason': 0, 'safety_ratings': []}, 'finish_reason': 'STOP', 'safety_ratings': []}, id='run-0bd487d4-c20d-4f0c-8db1-96dccdd94e52-0', tool_calls=[{'name': 'process_property_message', 'args': {'message': 'want to buy property'}, 'id': '883cc1a1-ddc3-4aea-ab1f-327c521bf927', 'type': 'tool_call'}], usage_metadata={'input_tokens': 56, 'output_tokens': 10, 'total_tokens': 66, 'input_token_details': {'cache_read': 0}})"
            ]
          },
          "metadata": {},
          "execution_count": 13
        }
      ]
    },
    {
      "cell_type": "code",
      "source": [
        "# Create a thread\n",
        "#  using stream mode\n",
        "config = {\"configurable\": {\"thread_id\": \"1\"}}\n",
        "\n",
        "# Start conversation\n",
        "for chunk in react_graph.stream({\"messages\": [HumanMessage(content=\"hi\")]}, config, stream_mode=\"updates\"):\n",
        "    print(chunk)"
      ],
      "metadata": {
        "colab": {
          "base_uri": "https://localhost:8080/"
        },
        "id": "7KGAvJ7unTAZ",
        "outputId": "cb512876-f4fc-4145-cd02-b00e3cb3ae87"
      },
      "execution_count": null,
      "outputs": [
        {
          "output_type": "stream",
          "name": "stdout",
          "text": [
            "{'assistant': {'messages': [AIMessage(content='Hello! How can I help you with your property needs today?\\n', additional_kwargs={}, response_metadata={'prompt_feedback': {'block_reason': 0, 'safety_ratings': []}, 'finish_reason': 'STOP', 'safety_ratings': []}, id='run-8a8aa2dc-d9c3-44ea-9918-b22a66bb9ecc-0', usage_metadata={'input_tokens': 144, 'output_tokens': 14, 'total_tokens': 158, 'input_token_details': {'cache_read': 0}})]}}\n"
          ]
        }
      ]
    },
    {
      "cell_type": "code",
      "source": [
        "from langgraph.checkpoint.memory import MemorySaver\n",
        "memory = MemorySaver()\n",
        "react_graph_memory = builder.compile(checkpointer=memory)"
      ],
      "metadata": {
        "id": "lCDvyZzPk9Mg"
      },
      "execution_count": null,
      "outputs": []
    },
    {
      "cell_type": "code",
      "source": [
        "#  without stream mode\n",
        "config = {\"configurable\": {\"thread_id\": \"1\"}}\n",
        "\n",
        "messages = [HumanMessage(content=\"do you help me in property buy in karachi?\")]\n",
        "\n",
        "messages = react_graph_memory.invoke({\"messages\": messages},config)\n",
        "for m in messages['messages']:\n",
        "    m.pretty_print()"
      ],
      "metadata": {
        "colab": {
          "base_uri": "https://localhost:8080/"
        },
        "id": "QIDMXtG-mDtx",
        "outputId": "4b730af9-44f8-45c8-a581-13ccc104ec2b"
      },
      "execution_count": null,
      "outputs": [
        {
          "output_type": "stream",
          "name": "stdout",
          "text": [
            "================================\u001b[1m Human Message \u001b[0m=================================\n",
            "\n",
            "who is best fitness idea\n",
            "==================================\u001b[1m Ai Message \u001b[0m==================================\n",
            "\n",
            "That's not a property-related question, so I can't help with that.  I'm designed to assist with questions about renting, buying, selling, mortgages, renovations, and tenant/landlord responsibilities.\n",
            "================================\u001b[1m Human Message \u001b[0m=================================\n",
            "\n",
            "hi\n",
            "==================================\u001b[1m Ai Message \u001b[0m==================================\n",
            "\n",
            "Hello! How can I help you with your property questions today?\n",
            "================================\u001b[1m Human Message \u001b[0m=================================\n",
            "\n",
            "do you help me in property buy in karachi?\n",
            "==================================\u001b[1m Ai Message \u001b[0m==================================\n",
            "\n",
            "I cannot directly help you buy property in Karachi. I am a language model and do not have access to real-time information, such as property listings, market prices, or legal processes.  I also cannot interact with the real world to make transactions or appointments.\n",
            "\n",
            "To buy property in Karachi, you will need to work with real estate agents, lawyers, and potentially mortgage brokers.  I can, however, provide you with general information about the process of buying property, such as:\n",
            "\n",
            "* **Researching the market:** Look at different neighborhoods to understand pricing and property types.\n",
            "* **Finding a real estate agent:** A local agent will have up-to-date knowledge of the market and available properties.\n",
            "* **Getting pre-approved for a mortgage:**  This will help you understand your budget and make offers more confidently.\n",
            "* **Making an offer:** Once you find a property you like, you will need to make an offer through your agent.\n",
            "* **Due diligence:**  Thoroughly inspect the property and review all legal documents before finalizing the purchase.\n",
            "* **Closing the deal:** This involves finalizing the paperwork and transferring ownership.\n",
            "\n",
            "Do you have any specific questions about the property buying process in Karachi that I can help you with?  For example, are you interested in learning more about specific areas, mortgage options, or legal considerations?\n"
          ]
        }
      ]
    },
    {
      "cell_type": "code",
      "source": [],
      "metadata": {
        "id": "OxTEftpEsN4y"
      },
      "execution_count": null,
      "outputs": []
    },
    {
      "cell_type": "code",
      "source": [
        "from google.colab import drive\n",
        "drive.mount('/content/drive')"
      ],
      "metadata": {
        "id": "euQwGuPrwu68"
      },
      "execution_count": null,
      "outputs": []
    }
  ],
  "metadata": {
    "colab": {
      "provenance": [],
      "include_colab_link": true
    },
    "kernelspec": {
      "display_name": "Python 3",
      "name": "python3"
    },
    "language_info": {
      "name": "python"
    }
  },
  "nbformat": 4,
  "nbformat_minor": 0
}